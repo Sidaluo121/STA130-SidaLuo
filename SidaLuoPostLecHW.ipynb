{
 "cells": [
  {
   "cell_type": "markdown",
   "id": "376d95fe",
   "metadata": {},
   "source": [
    "\"Count\" tells you the number of entries are available for the analysis.\n",
    "\"Mean\" is the average of values in the column. It provides a measure of central tendency.\n",
    "\"Std\" is the standard deviation of values in the column. It measures the amount of dispersion of values from the mean. A higher std indicates more spread out values.\n",
    "\"Min\" is the smallest value in the column.\n",
    "\"25%\" is the first quartile, or Q1, of the column. It provides a measure oef the lower boundary of the middle 50% of the data.\n",
    "\"50%\" is the median or the Q2. It divides the data into two equal halves and represents the median.\n",
    "\"75%\" is the third quartile or Q3, it is the upper boundary of the middle 50% of the data.\n",
    "\"Max\" is the largest value in the column."
   ]
  },
  {
   "cell_type": "markdown",
   "id": "cb4597f3",
   "metadata": {},
   "source": [
    "\"Dropna\" is more preferred than \"del df['col']\" when missing values are to be cleaned up selectively based on the presence of values in wanted columns."
   ]
  },
  {
   "cell_type": "markdown",
   "id": "d792719b",
   "metadata": {},
   "source": [
    "\"del\" is more preferred when entire columns are to be removed."
   ]
  },
  {
   "cell_type": "markdown",
   "id": "fe5e1a90",
   "metadata": {},
   "source": [
    "It is important because this can increase the efficiency by reducing the computational load for dropna(), prevent redundancy by avoiding unnecessary data cleaning, and ensures accuracy."
   ]
  },
  {
   "cell_type": "code",
   "execution_count": 1,
   "id": "bd85edef",
   "metadata": {},
   "outputs": [
    {
     "ename": "NameError",
     "evalue": "name 'pd' is not defined",
     "output_type": "error",
     "traceback": [
      "\u001b[0;31m---------------------------------------------------------------------------\u001b[0m",
      "\u001b[0;31mNameError\u001b[0m                                 Traceback (most recent call last)",
      "Cell \u001b[0;32mIn[1], line 4\u001b[0m\n\u001b[1;32m      1\u001b[0m \u001b[38;5;66;03m# feel free to just use the following if you prefer...\u001b[39;00m\n\u001b[1;32m      2\u001b[0m \u001b[38;5;66;03m#import pandas as pd\u001b[39;00m\n\u001b[1;32m      3\u001b[0m url \u001b[38;5;241m=\u001b[39m \u001b[38;5;124m\"\u001b[39m\u001b[38;5;124mhttps://raw.githubusercontent.com/rfordatascience/tidytuesday/master/data/2020/2020-05-05/villagers.csv\u001b[39m\u001b[38;5;124m\"\u001b[39m\n\u001b[0;32m----> 4\u001b[0m df \u001b[38;5;241m=\u001b[39m \u001b[43mpd\u001b[49m\u001b[38;5;241m.\u001b[39mread_csv(url)\n\u001b[1;32m      5\u001b[0m df\u001b[38;5;241m.\u001b[39mdropna()\n\u001b[1;32m      6\u001b[0m \u001b[38;5;28;01mdel\u001b[39;00m df[\u001b[38;5;124m'\u001b[39m\u001b[38;5;124mid\u001b[39m\u001b[38;5;124m'\u001b[39m]\n",
      "\u001b[0;31mNameError\u001b[0m: name 'pd' is not defined"
     ]
    }
   ],
   "source": [
    "# feel free to just use the following if you prefer...\n",
    "#import pandas as pd\n",
    "url = \"https://raw.githubusercontent.com/rfordatascience/tidytuesday/master/data/2020/2020-05-05/villagers.csv\"\n",
    "df = pd.read_csv(url)\n",
    "df.dropna()\n",
    "del df['id']\n",
    "df\n",
    "#df.isna().sum()"
   ]
  },
  {
   "cell_type": "markdown",
   "id": "bc1a2aea",
   "metadata": {},
   "source": [
    "I used dropna before del df[id] to first remove the rows with missing data and to remove the column with missing data."
   ]
  },
  {
   "cell_type": "code",
   "execution_count": null,
   "id": "7f71529a",
   "metadata": {},
   "outputs": [],
   "source": [
    "#import pandas as pd\n",
    "\n",
    "url = \"https://raw.githubusercontent.com/mwaskom/seaborn-data/master/titanic.csv\"\n",
    "df = pd.read_csv(url)\n",
    "df\n",
    "df.groupby(\"sex\")[\"class\"].describe()#Group the data frame by values in the column \"sex\"\n",
    "#provide desctiptive statistics for \"class\"\n",
    "df"
   ]
  },
  {
   "cell_type": "markdown",
   "id": "3cbb8813",
   "metadata": {},
   "source": [
    "df.describe() gives overall statistics for each column across the entire dataFrame, while the other provides a group-wise statistics.\n",
    "The count values differ depending on the number of non-missing entries in col2 within each group defined by col1."
   ]
  },
  {
   "cell_type": "code",
   "execution_count": 3,
   "id": "ff5d6439",
   "metadata": {},
   "outputs": [
    {
     "ename": "NameError",
     "evalue": "name 'sex' is not defined",
     "output_type": "error",
     "traceback": [
      "\u001b[0;31m---------------------------------------------------------------------------\u001b[0m",
      "\u001b[0;31mNameError\u001b[0m                                 Traceback (most recent call last)",
      "Cell \u001b[0;32mIn[3], line 6\u001b[0m\n\u001b[1;32m      4\u001b[0m df \u001b[38;5;241m=\u001b[39m pd\u001b[38;5;241m.\u001b[39mread_csv(url)\n\u001b[1;32m      5\u001b[0m df\n\u001b[0;32m----> 6\u001b[0m df\u001b[38;5;241m.\u001b[39mgroupby(\u001b[43msex\u001b[49m)[\u001b[38;5;124m\"\u001b[39m\u001b[38;5;124mclass\u001b[39m\u001b[38;5;124m\"\u001b[39m]\u001b[38;5;241m.\u001b[39mdescribe()\u001b[38;5;66;03m#Group the data frame by values in the column \"sex\"\u001b[39;00m\n\u001b[1;32m      7\u001b[0m \u001b[38;5;66;03m#provide desctiptive statistics for \"class\"\u001b[39;00m\n\u001b[1;32m      8\u001b[0m df\n",
      "\u001b[0;31mNameError\u001b[0m: name 'sex' is not defined"
     ]
    }
   ],
   "source": [
    "import pandas as pd\n",
    "\n",
    "url = \"https://raw.githubusercontent.com/mwaskom/seaborn-data/master/titanic.csv\"\n",
    "df = pd.read_csv(url)\n",
    "df\n",
    "df.groupby('sex')[\"class\"].describe()#Group the data frame by values in the column \"sex\"\n",
    "#provide desctiptive statistics for \"class\"\n",
    "df"
   ]
  },
  {
   "cell_type": "markdown",
   "id": "7a56923e",
   "metadata": {},
   "source": [
    "no.\n"
   ]
  },
  {
   "cell_type": "markdown",
   "id": "e29281e4",
   "metadata": {},
   "source": [
    "Here's a summary of the chat history:\n",
    "\n",
    "Pandas DataFrame Methods:\n",
    "df.describe(): Provides summary statistics for each column in a DataFrame, including count, mean, standard deviation, min, max, and quartiles (25%, 50%, and 75%).\n",
    "df.groupby(\"col1\")[\"col2\"].describe(): Groups the DataFrame by values in column \"col1\" and provides summary statistics for column \"col2\" within each group.\n",
    "Use Cases for DataFrame Operations:\n",
    "df.dropna() vs. del df['col']:\n",
    "df.dropna(): Used to remove rows with missing values. Preferred when you need to clean data based on the presence of NaNs.\n",
    "del df['col']: Removes an entire column from the DataFrame. Preferred when the column is not needed for analysis and might contain irrelevant or excessive data.\n",
    "Applying del df['col'] Before df.dropna():\n",
    "It’s important to drop columns that are entirely irrelevant or unnecessary before removing rows with missing values, to avoid unnecessary computations and improve efficiency.\n",
    "Code Issues:\n",
    "Errors in Loading Data:\n",
    "404 Error: Occurred when trying to load a CSV file from a URL that doesn’t exist.\n",
    "NameError: Raised when a variable or name (like url) is not defined.\n",
    "SyntaxError: Raised due to a missing closing parenthesis in the code.\n",
    "KeyError: Occurred because of incorrect column names or empty strings used in groupby."
   ]
  }
 ],
 "metadata": {
  "kernelspec": {
   "display_name": "Python 3 (ipykernel)",
   "language": "python",
   "name": "python3"
  },
  "language_info": {
   "codemirror_mode": {
    "name": "ipython",
    "version": 3
   },
   "file_extension": ".py",
   "mimetype": "text/x-python",
   "name": "python",
   "nbconvert_exporter": "python",
   "pygments_lexer": "ipython3",
   "version": "3.11.6"
  }
 },
 "nbformat": 4,
 "nbformat_minor": 5
}
